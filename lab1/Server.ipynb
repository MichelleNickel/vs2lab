{
 "cells": [
  {
   "cell_type": "markdown",
   "metadata": {},
   "source": [
    "# Server"
   ]
  },
  {
   "cell_type": "code",
   "execution_count": 1,
   "metadata": {
    "ExecuteTime": {
     "end_time": "2024-10-31T08:51:31.283752Z",
     "start_time": "2024-10-31T08:51:31.279730Z"
    }
   },
   "outputs": [],
   "source": [
    "from clientserver import Server"
   ]
  },
  {
   "cell_type": "code",
   "execution_count": 2,
   "metadata": {
    "ExecuteTime": {
     "end_time": "2024-10-31T08:53:29.693895Z",
     "start_time": "2024-10-31T08:51:33.940750Z"
    }
   },
   "outputs": [
    {
     "name": "stderr",
     "output_type": "stream",
     "text": [
      "2024-11-06 15:27:28,974 - vs2lab.lab1.clientserver.Server - INFO - Server bound to socket <socket.socket fd=69, family=2, type=1, proto=0, laddr=('127.0.0.1', 50007)>\n",
      "2024-11-06 15:27:30,845 - vs2lab.lab1.clientserver.Server - INFO - Received request: GET Alpha\n",
      "2024-11-06 15:27:30,846 - vs2lab.lab1.clientserver.Server - INFO - Send response: 0176-12345678\n",
      "2024-11-06 15:27:30,856 - vs2lab.lab1.clientserver.Server - INFO - Received request: GET Gamma\n",
      "2024-11-06 15:27:30,857 - vs2lab.lab1.clientserver.Server - INFO - Send response: 0176-123123123\n",
      "2024-11-06 15:27:30,871 - vs2lab.lab1.clientserver.Server - INFO - Received request: GET NonExisting\n",
      "2024-11-06 15:27:30,872 - vs2lab.lab1.clientserver.Server - INFO - Send response: 404 Name not found.\n",
      "2024-11-06 15:27:30,882 - vs2lab.lab1.clientserver.Server - INFO - Received request: GETALL\n",
      "2024-11-06 15:27:30,883 - vs2lab.lab1.clientserver.Server - INFO - Send response: {'Alpha': '0176-12345678', 'Beta': '0176-23456789', 'Gamma': '0176-123123123'}\n"
     ]
    },
    {
     "ename": "KeyboardInterrupt",
     "evalue": "",
     "output_type": "error",
     "traceback": [
      "\u001b[0;31m---------------------------------------------------------------------------\u001b[0m",
      "\u001b[0;31mKeyboardInterrupt\u001b[0m                         Traceback (most recent call last)",
      "Cell \u001b[0;32mIn[2], line 2\u001b[0m\n\u001b[1;32m      1\u001b[0m server \u001b[38;5;241m=\u001b[39m Server()\n\u001b[0;32m----> 2\u001b[0m \u001b[43mserver\u001b[49m\u001b[38;5;241;43m.\u001b[39;49m\u001b[43mserve\u001b[49m\u001b[43m(\u001b[49m\u001b[43m)\u001b[49m\n",
      "File \u001b[0;32m/workspaces/VerteilteSysteme2/lab1/clientserver.py:40\u001b[0m, in \u001b[0;36mServer.serve\u001b[0;34m(self)\u001b[0m\n\u001b[1;32m     37\u001b[0m \u001b[38;5;28;01mwhile\u001b[39;00m \u001b[38;5;28mself\u001b[39m\u001b[38;5;241m.\u001b[39m_serving:  \u001b[38;5;66;03m# as long as _serving (checked after connections or socket timeouts)\u001b[39;00m\n\u001b[1;32m     38\u001b[0m     \u001b[38;5;28;01mtry\u001b[39;00m:\n\u001b[1;32m     39\u001b[0m         \u001b[38;5;66;03m# pylint: disable=unused-variable\u001b[39;00m\n\u001b[0;32m---> 40\u001b[0m         (connection, address) \u001b[38;5;241m=\u001b[39m \u001b[38;5;28;43mself\u001b[39;49m\u001b[38;5;241;43m.\u001b[39;49m\u001b[43msock\u001b[49m\u001b[38;5;241;43m.\u001b[39;49m\u001b[43maccept\u001b[49m\u001b[43m(\u001b[49m\u001b[43m)\u001b[49m  \u001b[38;5;66;03m# returns new socket and address of client\u001b[39;00m\n\u001b[1;32m     41\u001b[0m         \u001b[38;5;28;01mwhile\u001b[39;00m \u001b[38;5;28;01mTrue\u001b[39;00m:  \u001b[38;5;66;03m# forever\u001b[39;00m\n\u001b[1;32m     42\u001b[0m             data \u001b[38;5;241m=\u001b[39m connection\u001b[38;5;241m.\u001b[39mrecv(\u001b[38;5;241m1024\u001b[39m)\u001b[38;5;241m.\u001b[39mdecode(\u001b[38;5;124m'\u001b[39m\u001b[38;5;124mutf-8\u001b[39m\u001b[38;5;124m'\u001b[39m)  \u001b[38;5;66;03m# receive data from client and decode it\u001b[39;00m\n",
      "File \u001b[0;32m/usr/local/lib/python3.11/socket.py:294\u001b[0m, in \u001b[0;36msocket.accept\u001b[0;34m(self)\u001b[0m\n\u001b[1;32m    287\u001b[0m \u001b[38;5;28;01mdef\u001b[39;00m \u001b[38;5;21maccept\u001b[39m(\u001b[38;5;28mself\u001b[39m):\n\u001b[1;32m    288\u001b[0m \u001b[38;5;250m    \u001b[39m\u001b[38;5;124;03m\"\"\"accept() -> (socket object, address info)\u001b[39;00m\n\u001b[1;32m    289\u001b[0m \n\u001b[1;32m    290\u001b[0m \u001b[38;5;124;03m    Wait for an incoming connection.  Return a new socket\u001b[39;00m\n\u001b[1;32m    291\u001b[0m \u001b[38;5;124;03m    representing the connection, and the address of the client.\u001b[39;00m\n\u001b[1;32m    292\u001b[0m \u001b[38;5;124;03m    For IP sockets, the address info is a pair (hostaddr, port).\u001b[39;00m\n\u001b[1;32m    293\u001b[0m \u001b[38;5;124;03m    \"\"\"\u001b[39;00m\n\u001b[0;32m--> 294\u001b[0m     fd, addr \u001b[38;5;241m=\u001b[39m \u001b[38;5;28;43mself\u001b[39;49m\u001b[38;5;241;43m.\u001b[39;49m\u001b[43m_accept\u001b[49m\u001b[43m(\u001b[49m\u001b[43m)\u001b[49m\n\u001b[1;32m    295\u001b[0m     sock \u001b[38;5;241m=\u001b[39m socket(\u001b[38;5;28mself\u001b[39m\u001b[38;5;241m.\u001b[39mfamily, \u001b[38;5;28mself\u001b[39m\u001b[38;5;241m.\u001b[39mtype, \u001b[38;5;28mself\u001b[39m\u001b[38;5;241m.\u001b[39mproto, fileno\u001b[38;5;241m=\u001b[39mfd)\n\u001b[1;32m    296\u001b[0m     \u001b[38;5;66;03m# Issue #7995: if no default timeout is set and the listening\u001b[39;00m\n\u001b[1;32m    297\u001b[0m     \u001b[38;5;66;03m# socket had a (non-zero) timeout, force the new socket in blocking\u001b[39;00m\n\u001b[1;32m    298\u001b[0m     \u001b[38;5;66;03m# mode to override platform-specific socket flags inheritance.\u001b[39;00m\n",
      "\u001b[0;31mKeyboardInterrupt\u001b[0m: "
     ]
    }
   ],
   "source": [
    "server = Server()\n",
    "server.serve()"
   ]
  }
 ],
 "metadata": {
  "kernelspec": {
   "display_name": "VerteilteSysteme2-k29U_ThG",
   "language": "python",
   "name": "python3"
  },
  "language_info": {
   "codemirror_mode": {
    "name": "ipython",
    "version": 3
   },
   "file_extension": ".py",
   "mimetype": "text/x-python",
   "name": "python",
   "nbconvert_exporter": "python",
   "pygments_lexer": "ipython3",
   "version": "3.11.4"
  }
 },
 "nbformat": 4,
 "nbformat_minor": 2
}
