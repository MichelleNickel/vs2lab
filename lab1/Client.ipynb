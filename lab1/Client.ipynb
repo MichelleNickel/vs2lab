{
 "cells": [
  {
   "cell_type": "markdown",
   "metadata": {},
   "source": [
    "# Client"
   ]
  },
  {
   "cell_type": "code",
   "execution_count": 8,
   "metadata": {
    "ExecuteTime": {
     "end_time": "2024-10-31T08:52:04.611109Z",
     "start_time": "2024-10-31T08:52:04.137284Z"
    }
   },
   "outputs": [],
   "source": [
    "from clientserver import Client"
   ]
  },
  {
   "cell_type": "code",
   "execution_count": 9,
   "metadata": {
    "ExecuteTime": {
     "end_time": "2024-10-31T08:52:04.631356Z",
     "start_time": "2024-10-31T08:52:04.618320Z"
    }
   },
   "outputs": [
    {
     "name": "stderr",
     "output_type": "stream",
     "text": [
      "2024-11-06 15:27:30,827 - vs2lab.a1_layers.clientserver.Client - INFO - Client connected to socket <socket.socket fd=69, family=2, type=1, proto=0, laddr=('127.0.0.1', 33974), raddr=('127.0.0.1', 50007)>\n"
     ]
    }
   ],
   "source": [
    "client = Client()"
   ]
  },
  {
   "cell_type": "markdown",
   "metadata": {},
   "source": [
    "Bestehende Nummern abfragen"
   ]
  },
  {
   "cell_type": "code",
   "execution_count": 10,
   "metadata": {
    "ExecuteTime": {
     "end_time": "2024-10-31T08:52:05.043880Z",
     "start_time": "2024-10-31T08:52:05.032521Z"
    }
   },
   "outputs": [
    {
     "name": "stderr",
     "output_type": "stream",
     "text": [
      "2024-11-06 15:27:30,844 - vs2lab.a1_layers.clientserver.Client - INFO - Send message: GET Alpha\n"
     ]
    },
    {
     "name": "stdout",
     "output_type": "stream",
     "text": [
      "Antwort vom Server: 0176-12345678\n"
     ]
    },
    {
     "data": {
      "text/plain": [
       "'0176-12345678'"
      ]
     },
     "execution_count": 10,
     "metadata": {},
     "output_type": "execute_result"
    }
   ],
   "source": [
    "client.get(\"Alpha\")"
   ]
  },
  {
   "cell_type": "code",
   "execution_count": 11,
   "metadata": {
    "ExecuteTime": {
     "end_time": "2024-10-31T08:52:05.252523Z",
     "start_time": "2024-10-31T08:52:05.235775Z"
    }
   },
   "outputs": [
    {
     "name": "stderr",
     "output_type": "stream",
     "text": [
      "2024-11-06 15:27:30,855 - vs2lab.a1_layers.clientserver.Client - INFO - Send message: GET Gamma\n"
     ]
    },
    {
     "name": "stdout",
     "output_type": "stream",
     "text": [
      "Antwort vom Server: 0176-123123123\n"
     ]
    },
    {
     "data": {
      "text/plain": [
       "'0176-123123123'"
      ]
     },
     "execution_count": 11,
     "metadata": {},
     "output_type": "execute_result"
    }
   ],
   "source": [
    "client.get(\"Gamma\")"
   ]
  },
  {
   "cell_type": "markdown",
   "metadata": {},
   "source": [
    "Nicht bestehende Nummer abfragen"
   ]
  },
  {
   "cell_type": "code",
   "execution_count": 12,
   "metadata": {
    "ExecuteTime": {
     "end_time": "2024-10-31T08:52:05.606233Z",
     "start_time": "2024-10-31T08:52:05.587633Z"
    }
   },
   "outputs": [
    {
     "name": "stderr",
     "output_type": "stream",
     "text": [
      "2024-11-06 15:27:30,867 - vs2lab.a1_layers.clientserver.Client - INFO - Send message: GET NonExisting\n"
     ]
    },
    {
     "name": "stdout",
     "output_type": "stream",
     "text": [
      "Antwort vom Server: 404 Name not found.\n"
     ]
    },
    {
     "data": {
      "text/plain": [
       "'404 Name not found.'"
      ]
     },
     "execution_count": 12,
     "metadata": {},
     "output_type": "execute_result"
    }
   ],
   "source": [
    "client.get(\"NonExisting\")"
   ]
  },
  {
   "cell_type": "markdown",
   "metadata": {},
   "source": [
    "Alle Nummern abfragen"
   ]
  },
  {
   "cell_type": "code",
   "execution_count": 13,
   "metadata": {
    "ExecuteTime": {
     "end_time": "2024-10-31T08:52:06.068514Z",
     "start_time": "2024-10-31T08:52:06.052307Z"
    }
   },
   "outputs": [
    {
     "name": "stderr",
     "output_type": "stream",
     "text": [
      "2024-11-06 15:27:30,881 - vs2lab.a1_layers.clientserver.Client - INFO - Send message: GETALL\n"
     ]
    },
    {
     "name": "stdout",
     "output_type": "stream",
     "text": [
      "Antwort vom Server: {'Alpha': '0176-12345678', 'Beta': '0176-23456789', 'Gamma': '0176-123123123'}\n"
     ]
    },
    {
     "data": {
      "text/plain": [
       "\"{'Alpha': '0176-12345678', 'Beta': '0176-23456789', 'Gamma': '0176-123123123'}\""
      ]
     },
     "execution_count": 13,
     "metadata": {},
     "output_type": "execute_result"
    }
   ],
   "source": [
    "client.get_all()"
   ]
  },
  {
   "cell_type": "markdown",
   "metadata": {},
   "source": [
    "Verbindung schließen"
   ]
  },
  {
   "cell_type": "code",
   "execution_count": 14,
   "metadata": {},
   "outputs": [
    {
     "name": "stderr",
     "output_type": "stream",
     "text": [
      "2024-11-06 15:27:30,894 - vs2lab.a1_layers.clientserver.Client - INFO - Client closed.\n"
     ]
    }
   ],
   "source": [
    "client.close()"
   ]
  }
 ],
 "metadata": {
  "kernelspec": {
   "display_name": "VerteilteSysteme2-k29U_ThG",
   "language": "python",
   "name": "python3"
  },
  "language_info": {
   "codemirror_mode": {
    "name": "ipython",
    "version": 3
   },
   "file_extension": ".py",
   "mimetype": "text/x-python",
   "name": "python",
   "nbconvert_exporter": "python",
   "pygments_lexer": "ipython3",
   "version": "3.11.4"
  }
 },
 "nbformat": 4,
 "nbformat_minor": 2
}
